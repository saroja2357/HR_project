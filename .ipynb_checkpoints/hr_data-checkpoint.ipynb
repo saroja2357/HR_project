{
 "cells": [
  {
   "cell_type": "code",
   "execution_count": 2,
   "id": "84a7565e",
   "metadata": {},
   "outputs": [
    {
     "name": "stdout",
     "output_type": "stream",
     "text": [
      "Requirement already satisfied: pandas in /Users/rr/anaconda3/lib/python3.11/site-packages (2.2.1)\n",
      "Requirement already satisfied: numpy<2,>=1.23.2 in /Users/rr/anaconda3/lib/python3.11/site-packages (from pandas) (1.24.3)\n",
      "Requirement already satisfied: python-dateutil>=2.8.2 in /Users/rr/anaconda3/lib/python3.11/site-packages (from pandas) (2.8.2)\n",
      "Requirement already satisfied: pytz>=2020.1 in /Users/rr/anaconda3/lib/python3.11/site-packages (from pandas) (2023.3.post1)\n",
      "Requirement already satisfied: tzdata>=2022.7 in /Users/rr/anaconda3/lib/python3.11/site-packages (from pandas) (2023.3)\n",
      "Requirement already satisfied: six>=1.5 in /Users/rr/anaconda3/lib/python3.11/site-packages (from python-dateutil>=2.8.2->pandas) (1.16.0)\n"
     ]
    }
   ],
   "source": [
    "!pip install pandas"
   ]
  },
  {
   "cell_type": "code",
   "execution_count": 3,
   "id": "8fa7aa0c",
   "metadata": {},
   "outputs": [
    {
     "name": "stdout",
     "output_type": "stream",
     "text": [
      "0 00-95822412;Danielle;Johnson;Female;New York;New York City;High School;13/02/1980;16/04/2016;05/07/2021;Customer Service;Help Desk Technician;81552;Needs Improvement\n",
      "0  00-42868828;John;Taylor;Male;North Carolina;Ch...                                                                                                                   \n",
      "1  00-83197857;Erica;Mcclain;Male;New York;New Yo...                                                                                                                   \n",
      "2  00-13999315;Brittany;Johnson;Male;New York;New...                                                                                                                   \n",
      "3  00-90801586;Jeffery;Wagner;Female;New York;New...                                                                                                                   \n",
      "4  00-97226012;Anna;Baldwin;Female;New York;New Y...                                                                                                                   \n"
     ]
    }
   ],
   "source": [
    "import pandas as pd\n",
    "\n",
    "# Load the dataset, assuming it's a CSV file\n",
    "df = pd.read_csv(\"HumanResources.csv\", header=0)  # header=0 means first row as column names\n",
    "\n",
    "# If the column names are still in the first row, reset them\n",
    "df.columns = df.iloc[0]  # Set first row as column names\n",
    "df = df[1:].reset_index(drop=True)  # Drop the first row and reset index\n",
    "\n",
    "print(df.head())  # Check the first few rows\n"
   ]
  },
  {
   "cell_type": "code",
   "execution_count": 5,
   "id": "3d5d0b8c",
   "metadata": {},
   "outputs": [
    {
     "name": "stdout",
     "output_type": "stream",
     "text": [
      "   Employee_ID First Name Last Name  Gender           State           City  \\\n",
      "0  00-95822412   Danielle   Johnson  Female        New York  New York City   \n",
      "1  00-42868828       John    Taylor    Male  North Carolina      Charlotte   \n",
      "2  00-83197857      Erica   Mcclain    Male        New York  New York City   \n",
      "3  00-13999315   Brittany   Johnson    Male        New York  New York City   \n",
      "4  00-90801586    Jeffery    Wagner  Female        New York  New York City   \n",
      "\n",
      "  Education Level   Birthdate    Hiredate    Termdate        Department  \\\n",
      "0     High School  13/02/1980  16/04/2016  05/07/2021  Customer Service   \n",
      "1        Bachelor  22/09/1987  09/02/2017  14/06/2019                IT   \n",
      "2        Bachelor  19/05/1994  03/02/2016  06/03/2021        Operations   \n",
      "3        Bachelor  18/04/1980  06/02/2016  06/11/2018        Operations   \n",
      "4        Bachelor  07/04/1985  11/01/2015         NaN        Operations   \n",
      "\n",
      "               Job Title  Salary Performance Rating  \n",
      "0   Help Desk Technician   81552  Needs Improvement  \n",
      "1   System Administrator  107520               Good  \n",
      "2  Logistics Coordinator   61104               Good  \n",
      "3   Inventory Specialist   73770               Good  \n",
      "4     Operations Analyst   55581       Satisfactory  \n"
     ]
    }
   ],
   "source": [
    "import pandas as pd\n",
    "\n",
    "# Specify the semicolon as the separator\n",
    "df = pd.read_csv(\"HumanResources.csv\", sep=';')\n",
    "\n",
    "# Check the first few rows\n",
    "print(df.head())\n"
   ]
  },
  {
   "cell_type": "code",
   "execution_count": 6,
   "id": "f40ed125",
   "metadata": {},
   "outputs": [],
   "source": [
    "# Save the cleaned data to a new CSV file\n",
    "df.to_csv(\"Cleaned_HumanResources.csv\", index=False)\n",
    "\n",
    "# Confirmation message\n",
    "print(\"✅ File 'Cleaned_HumanResources.csv' saved successfully!\")"
   ]
  },
  {
   "cell_type": "code",
   "execution_count": null,
   "id": "b61c192c",
   "metadata": {},
   "outputs": [],
   "source": []
  }
 ],
 "metadata": {
  "kernelspec": {
   "display_name": "Python 3 (ipykernel)",
   "language": "python",
   "name": "python3"
  },
  "language_info": {
   "codemirror_mode": {
    "name": "ipython",
    "version": 3
   },
   "file_extension": ".py",
   "mimetype": "text/x-python",
   "name": "python",
   "nbconvert_exporter": "python",
   "pygments_lexer": "ipython3",
   "version": "3.11.5"
  }
 },
 "nbformat": 4,
 "nbformat_minor": 5
}
